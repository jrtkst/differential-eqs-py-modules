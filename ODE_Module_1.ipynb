{
  "cells": [
    {
      "attachments": {},
      "cell_type": "markdown",
      "metadata": {
        "id": "fgKADDoy-Aqa"
      },
      "source": [
        "# **1. Pengantar Python untuk PPD**\n",
        "\n",
        "> Gabriel Jonathan (gabejonathan29@gmail.com)"
      ]
    },
    {
      "cell_type": "markdown",
      "metadata": {
        "id": "C5X_JWE6-Fi8"
      },
      "source": [
        "## **1.1 Sintaksis Dasar**"
      ]
    },
    {
      "cell_type": "markdown",
      "metadata": {
        "id": "eh46g0u96Di8"
      },
      "source": [
        " Beberapa hal yang perlu diperhatikan dalam menggunakan bahasa pemrograman Python:\n",
        " \n",
        "* Tombol \"Enter\" berfungsi untuk membuat baris baru (*create new line*). Untuk melakukan eksekusi kode dari suatu cell, gunakan \"Ctrl + Enter\"\n",
        "\n",
        "* Simbol tanda pagar $\\#$ digunakan untuk menulis komentar pada program.\n",
        "\n",
        "* Python bersifat *case-sensitive*, perhatikan penggunaan huruf kapital pada program yang Anda tulis. \n"
      ]
    },
    {
      "cell_type": "code",
      "execution_count": null,
      "metadata": {
        "colab": {
          "base_uri": "https://localhost:8080/"
        },
        "id": "XGzfe9O9CLVt",
        "outputId": "da9febb4-e1d1-4fe6-cde2-45084c43c69d"
      },
      "outputs": [
        {
          "name": "stdout",
          "output_type": "stream",
          "text": [
            "Halo dunia ! \n"
          ]
        }
      ],
      "source": [
        "print(\"Halo dunia ! \") # ini komentar, tidak akan muncul"
      ]
    },
    {
      "cell_type": "markdown",
      "metadata": {
        "id": "QKYWN7qk5Fbu"
      },
      "source": [
        "Berikut adalah salah satu contoh kesalahan penulisan huruf kapital pada Python."
      ]
    },
    {
      "cell_type": "code",
      "execution_count": null,
      "metadata": {
        "colab": {
          "base_uri": "https://localhost:8080/",
          "height": 165
        },
        "id": "qqnd6F-PCgBE",
        "outputId": "38deb2f7-df11-4bb6-83c9-67660955d561"
      },
      "outputs": [
        {
          "ename": "NameError",
          "evalue": "ignored",
          "output_type": "error",
          "traceback": [
            "\u001b[0;31m---------------------------------------------------------------------------\u001b[0m",
            "\u001b[0;31mNameError\u001b[0m                                 Traceback (most recent call last)",
            "\u001b[0;32m<ipython-input-2-55e4215901ac>\u001b[0m in \u001b[0;36m<module>\u001b[0;34m\u001b[0m\n\u001b[0;32m----> 1\u001b[0;31m \u001b[0mPrint\u001b[0m\u001b[0;34m(\u001b[0m\u001b[0;34m\"Halo dunia ! \"\u001b[0m\u001b[0;34m)\u001b[0m\u001b[0;34m\u001b[0m\u001b[0;34m\u001b[0m\u001b[0m\n\u001b[0m",
            "\u001b[0;31mNameError\u001b[0m: name 'Print' is not defined"
          ]
        }
      ],
      "source": [
        "Print(\"Halo dunia ! \") # "
      ]
    },
    {
      "cell_type": "markdown",
      "metadata": {
        "id": "d2oPP_mX6nX0"
      },
      "source": [
        "Sama seperti bahasa pemrograman lainnya, Python dapat digunakan untuk melakukan perhitungan sederhana (seperti kalkulator).\n",
        "\n",
        "\n",
        "Berikut adalah beberapa operasi matematika yang dapat Anda lakukan."
      ]
    },
    {
      "cell_type": "code",
      "execution_count": null,
      "metadata": {
        "colab": {
          "base_uri": "https://localhost:8080/"
        },
        "id": "xC2ecF4xCixB",
        "outputId": "39c15e8e-a8cc-4a30-8a02-1ad5309cd6e8"
      },
      "outputs": [
        {
          "name": "stdout",
          "output_type": "stream",
          "text": [
            "93\n",
            "-49\n",
            "1562\n",
            "0.30985915492957744\n",
            "3397825206.7813687\n"
          ]
        }
      ],
      "source": [
        "print(22 + 71)      # penjumlahan\n",
        "print(22 - 71)      # pengurangan\n",
        "print(22 * 71)      # perkalian\n",
        "print(22 / 71)      # pembagian\n",
        "print(22 ** 7.1)      # perpangkatan"
      ]
    },
    {
      "cell_type": "markdown",
      "metadata": {
        "id": "i2-vNAn--SOY"
      },
      "source": [
        "## **1.2 Vektor dan Matriks**"
      ]
    },
    {
      "cell_type": "markdown",
      "metadata": {
        "id": "Z9gR1zMZ6vcD"
      },
      "source": [
        " Pada Praktikum MA2271, kita akan menggunakan package `NumPy` ketika bekerja dengan vektor dan matriks. \n",
        "\n",
        " Catatan penting : **Python menerapkan zero indexing !** \n",
        " \n",
        " Penomoran indeks vektor ataupun matriks pada Python dimulai dari 0. Indeks negatif dapat digunakan untuk mengakses elemen dari paling belakang."
      ]
    },
    {
      "cell_type": "code",
      "execution_count": null,
      "metadata": {
        "id": "K3LFgdxqPDlD"
      },
      "outputs": [],
      "source": [
        "import numpy as np"
      ]
    },
    {
      "cell_type": "code",
      "execution_count": null,
      "metadata": {
        "colab": {
          "base_uri": "https://localhost:8080/"
        },
        "id": "2iAJWzpCPFVb",
        "outputId": "c5273a54-ccdb-45f1-8e8a-aa2e05501ca3"
      },
      "outputs": [
        {
          "name": "stdout",
          "output_type": "stream",
          "text": [
            "Contoh vektor :  [1 2 3]\n",
            "Contoh matriks : \n",
            " [[1 2 3]\n",
            " [4 5 6]]\n"
          ]
        }
      ],
      "source": [
        "u = np.array([1, 2, 3])             # pendefinisian vektor\n",
        "v = np.array([5, 6, 7])\n",
        "A = np.array([[1, 2, 3], [4, 5, 6]]) # pendefinisian matriks\n",
        "B = np.array([[6, 7, 8], [9, 10, 11]])\n",
        "C = np.array([[1, 2], [5, 6]])\n",
        "print(\"Contoh vektor : \", u)\n",
        "print(\"Contoh matriks : \\n\", A)"
      ]
    },
    {
      "cell_type": "markdown",
      "metadata": {
        "id": "wtBdOb0Y7VB5"
      },
      "source": [
        "Seperti pada operasi pada bilangan biasa, kita juga dapat menerapkan berbagai operasi matematika pada vektor dan matriks. "
      ]
    },
    {
      "cell_type": "code",
      "execution_count": null,
      "metadata": {
        "colab": {
          "base_uri": "https://localhost:8080/"
        },
        "id": "-mFtjWblPqh4",
        "outputId": "a18c39e0-ab70-4de0-ed66-3a4599f7f303"
      },
      "outputs": [
        {
          "name": "stdout",
          "output_type": "stream",
          "text": [
            "[ 6  8 10]\n"
          ]
        }
      ],
      "source": [
        "# vektor atau matriks dapat dijumlahkan\n",
        "print(u + v)"
      ]
    },
    {
      "cell_type": "code",
      "execution_count": null,
      "metadata": {
        "colab": {
          "base_uri": "https://localhost:8080/"
        },
        "id": "FiwYCRpnPsfS",
        "outputId": "269423d5-9c20-4d92-e06d-13a53c046d68"
      },
      "outputs": [
        {
          "name": "stdout",
          "output_type": "stream",
          "text": [
            "[[ 6 14 24]\n",
            " [36 50 66]]\n",
            "[[0.16666667 0.28571429 0.375     ]\n",
            " [0.44444444 0.5        0.54545455]]\n"
          ]
        }
      ],
      "source": [
        "# operasi / atau * merupakan element-wise operation\n",
        "print(A * B)\n",
        "print(A / B)"
      ]
    },
    {
      "cell_type": "markdown",
      "metadata": {
        "id": "TG-FdFq17ZH9"
      },
      "source": [
        "Operasi pada vektor/matriks dapat dilakukan secara elemen-demi-element (*element-wise*) ataupun  seperti perkalian matriks pada umumnya. Untuk operasi *element-wise*, gunakan saja operator + atau /. Untuk perkalian, gunakan perintah `matmul` (singkatan dari *matrix multiplication*)"
      ]
    },
    {
      "cell_type": "code",
      "execution_count": null,
      "metadata": {
        "colab": {
          "base_uri": "https://localhost:8080/",
          "height": 182
        },
        "id": "Y3-_21C5Qhpt",
        "outputId": "dcca004a-da08-42e9-eabf-cac86e080a9e"
      },
      "outputs": [
        {
          "ename": "ValueError",
          "evalue": "ignored",
          "output_type": "error",
          "traceback": [
            "\u001b[0;31m---------------------------------------------------------------------------\u001b[0m",
            "\u001b[0;31mValueError\u001b[0m                                Traceback (most recent call last)",
            "\u001b[0;32m<ipython-input-8-ccd5f4e3d213>\u001b[0m in \u001b[0;36m<module>\u001b[0;34m\u001b[0m\n\u001b[1;32m      1\u001b[0m \u001b[0;31m# untuk perkalian matriks, gunakan matmul (ukuran harus sesuai)\u001b[0m\u001b[0;34m\u001b[0m\u001b[0;34m\u001b[0m\u001b[0;34m\u001b[0m\u001b[0m\n\u001b[0;32m----> 2\u001b[0;31m \u001b[0mprint\u001b[0m\u001b[0;34m(\u001b[0m\u001b[0mnp\u001b[0m\u001b[0;34m.\u001b[0m\u001b[0mmatmul\u001b[0m\u001b[0;34m(\u001b[0m\u001b[0mA\u001b[0m\u001b[0;34m,\u001b[0m \u001b[0mB\u001b[0m\u001b[0;34m)\u001b[0m\u001b[0;34m)\u001b[0m\u001b[0;34m\u001b[0m\u001b[0;34m\u001b[0m\u001b[0m\n\u001b[0m",
            "\u001b[0;31mValueError\u001b[0m: matmul: Input operand 1 has a mismatch in its core dimension 0, with gufunc signature (n?,k),(k,m?)->(n?,m?) (size 2 is different from 3)"
          ]
        }
      ],
      "source": [
        "# untuk perkalian matriks, gunakan matmul (ukuran harus sesuai)\n",
        "print(np.matmul(A, B))"
      ]
    },
    {
      "cell_type": "markdown",
      "metadata": {
        "id": "wcyGNVlS7A3U"
      },
      "source": [
        "Perhatikan bahwa error diatas muncul karena Anda mencoba mengalikan matriks $A_{2\\times 3}$ dengan $B_{2\\times 3}$."
      ]
    },
    {
      "cell_type": "code",
      "execution_count": null,
      "metadata": {
        "colab": {
          "base_uri": "https://localhost:8080/"
        },
        "id": "bdkEwqa5Q7O2",
        "outputId": "0530151f-c022-4533-8b68-ce8a865a21c7"
      },
      "outputs": [
        {
          "name": "stdout",
          "output_type": "stream",
          "text": [
            "[[ 9 12 15]\n",
            " [29 40 51]]\n"
          ]
        }
      ],
      "source": [
        "print(np.matmul(C, A))"
      ]
    },
    {
      "cell_type": "markdown",
      "metadata": {
        "id": "lCHZVR8h7SSk"
      },
      "source": [
        "Untuk perintah yang berkait dengan matriks persegi, seperti perhitungan determinan, invers, ataupun nilai eigen matriks, gunakan modul aljabar linear `linalg` dari `NumPy`."
      ]
    },
    {
      "cell_type": "code",
      "execution_count": null,
      "metadata": {
        "colab": {
          "base_uri": "https://localhost:8080/"
        },
        "id": "ca7Pbr9nTmUd",
        "outputId": "1a538b89-8bcc-4722-ac5d-d2507e4dc993"
      },
      "outputs": [
        {
          "name": "stdout",
          "output_type": "stream",
          "text": [
            "-41.00000000000001\n",
            "[[-0.02439024  0.12195122]\n",
            " [ 0.2195122  -0.09756098]]\n"
          ]
        }
      ],
      "source": [
        "mat = np.array([[4, 5], [9, 1]])\n",
        "print(np.linalg.det(mat))       # perhitungan determinan \n",
        "print(np.linalg.inv(mat))       # perhitungan invers matriks"
      ]
    },
    {
      "cell_type": "code",
      "execution_count": null,
      "metadata": {
        "colab": {
          "base_uri": "https://localhost:8080/"
        },
        "id": "VwSNOeKKT7PA",
        "outputId": "4bb83c13-1c4d-490e-e9bb-94a9d70d34dc"
      },
      "outputs": [
        {
          "name": "stdout",
          "output_type": "stream",
          "text": [
            "[ 9.37386354 -4.37386354]\n",
            "[[ 0.68118115 -0.5126612 ]\n",
            " [ 0.73211491  0.85859099]]\n"
          ]
        }
      ],
      "source": [
        "nilai_eigen, vektor_eigen = np.linalg.eig(mat) # perhitungan nilai dan vektor eigen matriks\n",
        "print(nilai_eigen)\n",
        "print(vektor_eigen)"
      ]
    },
    {
      "cell_type": "markdown",
      "metadata": {
        "id": "iIIvD8ZP-XXV"
      },
      "source": [
        "## **1.3 Fungsi dan Grafiknya**\n"
      ]
    },
    {
      "cell_type": "markdown",
      "metadata": {
        "id": "5u8bmwGE7vqa"
      },
      "source": [
        "Anda dapat mendefinisikan fungsi pada Python dengan perintah `def`, lalu assign keluaran fungsi tersebut melalui perintah `return`. Fungsi tersebut dapat memiliki keluaran/masukan berupa skalar, vektor, ataupun matriks."
      ]
    },
    {
      "cell_type": "code",
      "execution_count": null,
      "metadata": {
        "id": "pZyglVNmp59m"
      },
      "outputs": [],
      "source": [
        "import numpy as np\n",
        "import math"
      ]
    },
    {
      "cell_type": "code",
      "execution_count": null,
      "metadata": {
        "id": "PyaXjGuWqHNH"
      },
      "outputs": [],
      "source": [
        "def f(x):\n",
        "    return np.sin(x)"
      ]
    },
    {
      "cell_type": "code",
      "execution_count": null,
      "metadata": {
        "colab": {
          "base_uri": "https://localhost:8080/"
        },
        "id": "TB15MVBWqMNp",
        "outputId": "85ccdc6d-3794-4ee7-df71-03ac9bec6241"
      },
      "outputs": [
        {
          "name": "stdout",
          "output_type": "stream",
          "text": [
            "[[ 0.0000000e+00  1.2246468e-16]\n",
            " [ 0.0000000e+00 -2.4492936e-16]]\n"
          ]
        }
      ],
      "source": [
        "mat = np.array([[0, math.pi], [0, 2*np.pi]])\n",
        "fx = f(mat)\n",
        "print(fx)"
      ]
    },
    {
      "cell_type": "markdown",
      "metadata": {
        "id": "qlzzgRmS74w5"
      },
      "source": [
        "Anda dapat menggambar grafik fungsi menggunakan fungsi `plot` dari paket `matplotlib`. Konsepnya, fungsi `plot` menerima koordinat absis dan ordinat dari grafik fungsi yang hendak kita bangun, lalu menyambungkan seluruh titik tersebut sebagai suatu ruas garis. "
      ]
    },
    {
      "cell_type": "code",
      "execution_count": null,
      "metadata": {
        "id": "PvHtRf0cuDFS"
      },
      "outputs": [],
      "source": [
        "import matplotlib.pyplot as plt"
      ]
    },
    {
      "cell_type": "code",
      "execution_count": null,
      "metadata": {
        "id": "tAfyAXQpuE2_"
      },
      "outputs": [],
      "source": [
        "x = np.array([1, 2, 3, 4 ,5])\n",
        "y = np.array([-1, 5, 2, 3, 0])"
      ]
    },
    {
      "cell_type": "code",
      "execution_count": null,
      "metadata": {
        "colab": {
          "base_uri": "https://localhost:8080/",
          "height": 282
        },
        "id": "g9kNhhEbuKDM",
        "outputId": "5291ea63-bca8-4f2a-c16a-ee2442fd39c6"
      },
      "outputs": [
        {
          "data": {
            "image/png": "[encoded data removed]",
            "text/plain": [
              "<Figure size 432x288 with 1 Axes>"
            ]
          },
          "metadata": {
            "needs_background": "light"
          },
          "output_type": "display_data"
        },
        {
          "data": {
            "text/plain": [
              "<Figure size 432x288 with 0 Axes>"
            ]
          },
          "metadata": {},
          "output_type": "display_data"
        }
      ],
      "source": [
        "plt.plot(x, y)          # menggambarkan grafik dengan absis x dan ordinat y\n",
        "plt.show()              # menampilkan grafik\n",
        "plt.savefig('gambar.png')  # menyimpan gambar dari grafik"
      ]
    },
    {
      "cell_type": "markdown",
      "metadata": {
        "id": "zuJEW2aA8BII"
      },
      "source": [
        "Untuk menggambar grafik suatu fungsi $y=f(x)$, Anda perlu definisikan terlebih dahulu fungsi $f$ nya. Untuk menghasilkan grafik yang terlihat *smooth*/mulus, Anda memerlukan banyak titik."
      ]
    },
    {
      "cell_type": "code",
      "execution_count": null,
      "metadata": {
        "colab": {
          "base_uri": "https://localhost:8080/",
          "height": 283
        },
        "id": "VE6MmbkHyB7y",
        "outputId": "8b776719-d05a-4c32-a420-869ed2b4de63"
      },
      "outputs": [
        {
          "data": {
            "image/png": "[encoded data removed]",
            "text/plain": [
              "<Figure size 432x288 with 1 Axes>"
            ]
          },
          "metadata": {
            "needs_background": "light"
          },
          "output_type": "display_data"
        }
      ],
      "source": [
        "def f(x):\n",
        "    return x * np.cos(x)        # definisikan fungsi f(x) = x.cos(x)\n",
        "x = np.linspace(-3, 5, 1000)    # bangun array untuk absis sepanjang 1000 titik\n",
        "                                # coba Anda ganti 1000 menjadi 100, apa yang terjadi?\n",
        "\n",
        "plt.plot(x, f(x))               # menggambar grafik fungsi\n",
        "plt.xlabel('x')                 # label sumbu-x\n",
        "plt.ylabel('f(x)')              # label sumbu-y\n",
        "plt.xlim([-4, 5])               # batas sumbu-x\n",
        "plt.ylim([-8, 8])               # batas sumbu-y\n",
        "plt.show()                      # menampilkan grafik "
      ]
    },
    {
      "cell_type": "markdown",
      "metadata": {
        "id": "hkeEaqr8g0Hy"
      },
      "source": [
        "## **1.4 Kalkulus Fungsi** "
      ]
    },
    {
      "cell_type": "markdown",
      "metadata": {
        "id": "g3SiK3BC8O2R"
      },
      "source": [
        "Perhatikan bahwa perhitungan pada `NumPy` merupakan hasil perhitungan numerik. Untuk memperoleh solusi eksak dari berbagai persamaan diferensial, kita harus memanfaatkan operasi simbolik dari Python. Untuk itu, digunakan paket `SymPy` atau  *Symbolic Python*.\n",
        "\n",
        "**Catatan** : Simbol $\\infty$ pada `SymPy` dituliskan sebagai \"oo\"."
      ]
    },
    {
      "cell_type": "code",
      "execution_count": null,
      "metadata": {
        "id": "qJEWBOvqg3Rq"
      },
      "outputs": [],
      "source": [
        "from sympy import *\n",
        "x = symbols('x') # menyatakan x sebagai simbol. "
      ]
    },
    {
      "cell_type": "markdown",
      "metadata": {
        "id": "RKHy0plf_BmJ"
      },
      "source": [
        "Berikut adalah beberapa perhitungan sederhana yang dapat kita lakukan secara simbolik dengan Python : \n",
        "\n",
        "* Menentukan limit fungsi $\\displaystyle\\lim_{x\\to a}f(x)$ menggunakan perintah `limit(f(x),x,a)`\n",
        "* Menentukan turunan suatu fungsi $f'(x)$ dengan menuliskan `diff(f(x),x)`\n",
        "* Menentukan integral tentu maupun tak tentu dari suatu fungsi. Untuk integral tak tentu $\\int\\;f(x)\\;dx$, gunakan perintah `integrate(f(x),x)`. Untuk integral tentu $\\int_a^b f(x)\\;dx$ tuliskan `integrate(f(x), (x,a,b))`.\n"
      ]
    },
    {
      "cell_type": "code",
      "execution_count": null,
      "metadata": {
        "colab": {
          "base_uri": "https://localhost:8080/",
          "height": 37
        },
        "id": "UQA-jjy_iqVj",
        "outputId": "5c7139a6-bffe-45aa-ece3-a4c78d35d5f7"
      },
      "outputs": [
        {
          "data": {
            "text/latex": [
              "$\\displaystyle 1$"
            ],
            "text/plain": [
              "1"
            ]
          },
          "execution_count": 20,
          "metadata": {},
          "output_type": "execute_result"
        }
      ],
      "source": [
        "limit(sin(x)/x, x, 0) # menghitung nilai limit dari sin(x)/x untuk x->0"
      ]
    },
    {
      "cell_type": "code",
      "execution_count": null,
      "metadata": {
        "colab": {
          "base_uri": "https://localhost:8080/",
          "height": 39
        },
        "id": "XUBOotP1jEBj",
        "outputId": "64822ca3-25d6-4f1c-8172-06e9195487a3"
      },
      "outputs": [
        {
          "data": {
            "text/latex": [
              "$\\displaystyle - \\sin{\\left(x \\right)}$"
            ],
            "text/plain": [
              "-sin(x)"
            ]
          },
          "execution_count": 21,
          "metadata": {},
          "output_type": "execute_result"
        }
      ],
      "source": [
        "diff(cos(x), x)     # menentukan turunan dari cos(x) terhadap x"
      ]
    },
    {
      "cell_type": "code",
      "execution_count": null,
      "metadata": {
        "colab": {
          "base_uri": "https://localhost:8080/",
          "height": 39
        },
        "id": "vjmULS5ljPNS",
        "outputId": "c269fba1-57f1-4327-9f1b-2a1d3dff28c4"
      },
      "outputs": [
        {
          "data": {
            "text/latex": [
              "$\\displaystyle \\sin{\\left(x \\right)}$"
            ],
            "text/plain": [
              "sin(x)"
            ]
          },
          "execution_count": 22,
          "metadata": {},
          "output_type": "execute_result"
        }
      ],
      "source": [
        "integrate(cos(x), x) # menentukan integral tak tentu dari cos(x)"
      ]
    },
    {
      "cell_type": "code",
      "execution_count": null,
      "metadata": {
        "colab": {
          "base_uri": "https://localhost:8080/",
          "height": 54
        },
        "id": "h5ncY8YZjaJR",
        "outputId": "93fd50a9-5143-4d29-d263-2927fe00b7d1"
      },
      "outputs": [
        {
          "data": {
            "text/latex": [
              "$\\displaystyle \\frac{\\sqrt{\\pi}}{2}$"
            ],
            "text/plain": [
              "sqrt(pi)/2"
            ]
          },
          "execution_count": 23,
          "metadata": {},
          "output_type": "execute_result"
        }
      ],
      "source": [
        "integrate(exp(-x**2), (x, 0, oo)) # menentukan integral dari exp(-x^2) di selang [0, infty]"
      ]
    },
    {
      "cell_type": "markdown",
      "metadata": {
        "id": "NwZpjWxcqbM-"
      },
      "source": [
        "## **1.5 Solusi PDB Orde Satu**"
      ]
    },
    {
      "cell_type": "markdown",
      "metadata": {
        "id": "olehEOp9qhUS"
      },
      "source": [
        "Untuk menentukan solusi umum dari persamaan diferensial, gunakan perintah `dsolve`. Untuk solusi khususnya, akan digunakan perintah `solve`.\n",
        "\n",
        "\n",
        " Misalkan diberikan masalah nilai awal \n",
        "    \\begin{equation*}\n",
        "        p'(x) - p(x) = 0, \\hspace{1cm} p(0) = 0.5\n",
        "    \\end{equation*}"
      ]
    },
    {
      "cell_type": "code",
      "execution_count": null,
      "metadata": {
        "id": "WGBVnb-iqgxz"
      },
      "outputs": [],
      "source": [
        "from sympy import *\n",
        "from sympy.abc import x # x sebagai peubah bebas\n",
        "p = Function('p')       # menyatakan p sebagai fungsi\n",
        "x = Symbol('x')"
      ]
    },
    {
      "cell_type": "code",
      "execution_count": null,
      "metadata": {
        "colab": {
          "base_uri": "https://localhost:8080/"
        },
        "id": "LDdRNVD9qkVd",
        "outputId": "cdf5d30e-4483-4d36-c882-47b26718ca1f"
      },
      "outputs": [
        {
          "name": "stdout",
          "output_type": "stream",
          "text": [
            "C1*exp(x)\n",
            "{C1: 0.500000000000000}\n",
            "0.5*exp(x)\n"
          ]
        }
      ],
      "source": [
        "sol = dsolve(Derivative(p(x), x) - p(x), p(x)).rhs  # solusi umum\n",
        "constant = solve([sol.subs(x, 0) - 0.5])   # substitusi dengan konsisi awal, mendapatkan nilai C1\n",
        "final_ans = sol.subs(constant)             # solusi khusus dengan nilai C1 yang sudah ditemukan\n",
        "print(sol)\n",
        "print(constant)\n",
        "print(final_ans)"
      ]
    },
    {
      "cell_type": "markdown",
      "metadata": {
        "id": "SoO7PP8M_e4h"
      },
      "source": [
        "Untuk melakukan sketsa terhadap solusi MNA yang sudah ditemukan tadi, kita dapat menggunakan paket `matplotlib` sebagai berikut."
      ]
    },
    {
      "cell_type": "code",
      "execution_count": null,
      "metadata": {
        "id": "c_kbJ-Egqlva"
      },
      "outputs": [],
      "source": [
        "import matplotlib.pyplot as plt\n",
        "import numpy as np"
      ]
    },
    {
      "cell_type": "code",
      "execution_count": null,
      "metadata": {
        "colab": {
          "base_uri": "https://localhost:8080/",
          "height": 282
        },
        "id": "wganmLmlqnDB",
        "outputId": "74dc2c74-c41f-4d43-a76d-52642e99a70d"
      },
      "outputs": [
        {
          "data": {
            "text/plain": [
              "[<matplotlib.lines.Line2D at 0x7fbac5f1c070>]"
            ]
          },
          "execution_count": 27,
          "metadata": {},
          "output_type": "execute_result"
        },
        {
          "data": {
            "image/png": "[encoded data removed]",
            "text/plain": [
              "<Figure size 432x288 with 1 Axes>"
            ]
          },
          "metadata": {
            "needs_background": "light"
          },
          "output_type": "display_data"
        }
      ],
      "source": [
        "def p(x):\n",
        "    return 0.5*np.exp(x)\n",
        "xs = np.linspace(0, 5, 1000)\n",
        "plt.plot(xs, p(xs))"
      ]
    },
    {
      "cell_type": "markdown",
      "metadata": {
        "id": "SJfTzyQZ_i1F"
      },
      "source": [
        "Anda juga dapat melakukan konversi dari ekspresi simbolik Python menjadi suatu fungsi *lambda* pada Python dengan menggunakan modul `Lambdify` dari `SymPy` (lebih lengkapnya dapat anda baca di dokumentasi `Lambdify`)."
      ]
    },
    {
      "cell_type": "code",
      "execution_count": null,
      "metadata": {
        "colab": {
          "base_uri": "https://localhost:8080/",
          "height": 282
        },
        "id": "VWkBwJhwqorB",
        "outputId": "5ca9607e-ecf3-4333-8adb-de6e3b95d42f"
      },
      "outputs": [
        {
          "data": {
            "text/plain": [
              "[<matplotlib.lines.Line2D at 0x7fbac0b00af0>]"
            ]
          },
          "execution_count": 28,
          "metadata": {},
          "output_type": "execute_result"
        },
        {
          "data": {
            "image/png": "[encoded data removed]",
            "text/plain": [
              "<Figure size 432x288 with 1 Axes>"
            ]
          },
          "metadata": {
            "needs_background": "light"
          },
          "output_type": "display_data"
        }
      ],
      "source": [
        "final_ans_func = lambdify(x, final_ans)\n",
        "plt.plot(xs, final_ans_func(xs))"
      ]
    },
    {
      "cell_type": "markdown",
      "metadata": {
        "id": "PoU8WDZO_qBL"
      },
      "source": [
        "Dengan begitu, Anda tidak perlu mendefinisikan fungsi solusi dari PD tersebut secara manual!"
      ]
    }
  ],
  "metadata": {
    "colab": {
      "collapsed_sections": [
        "C5X_JWE6-Fi8",
        "i2-vNAn--SOY",
        "iIIvD8ZP-XXV",
        "hkeEaqr8g0Hy",
        "NwZpjWxcqbM-"
      ],
      "provenance": []
    },
    "kernelspec": {
      "display_name": "Python 3",
      "name": "python3"
    },
    "language_info": {
      "name": "python"
    }
  },
  "nbformat": 4,
  "nbformat_minor": 0
}
