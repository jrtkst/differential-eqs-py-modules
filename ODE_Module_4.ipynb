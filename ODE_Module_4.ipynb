{
  "cells": [
    {
      "attachments": {},
      "cell_type": "markdown",
      "metadata": {
        "id": "osM7iMJ0maRj"
      },
      "source": [
        "# **4. Transformasi Laplace dan Aplikasinya**\n",
        "\n",
        "> Gabriel Jonathan (gabejonathan29@gmail.com)"
      ]
    },
    {
      "cell_type": "markdown",
      "metadata": {
        "id": "fu7_00gqpncq"
      },
      "source": [
        "## **4.1 Transformasi Laplace dan Inversnya**"
      ]
    },
    {
      "cell_type": "markdown",
      "metadata": {
        "id": "ze122Eb8qhsc"
      },
      "source": [
        "Untuk suatu fungsi $f(t), t\\geq 0$, **Transformasi Laplace** dari $f$ didefinisikan sebagai:\n",
        "\\begin{equation*}\n",
        "\\mathcal{L}(f(t)) = F(s) \\int_0^\\infty e^{-st}f(t)\\;dt\n",
        "\\end{equation*}\n",
        "jika integral tersebut konvergen. \n",
        "\n",
        "Dengan menggunakan paket `sympy`, transformasi Laplace dari sebarang fungsi dapat diperoleh melalui fungsi `laplace_transform`.\n",
        "\n",
        "\n",
        "Sebagai contoh, akan ditentukan transformasi Laplace dari fungsi $f(t)=u_2(t)=u(t-2)$, dengan $u$ fungsi tangga satuan."
      ]
    },
    {
      "cell_type": "code",
      "execution_count": null,
      "metadata": {
        "colab": {
          "base_uri": "https://localhost:8080/"
        },
        "id": "2g-SxNcZsenr",
        "outputId": "b776d59b-1ffc-4a1c-bc3a-bcd283b5b006"
      },
      "outputs": [
        {
          "name": "stdout",
          "output_type": "stream",
          "text": [
            "(exp(-2*s)/s, -oo, s > 0)\n"
          ]
        }
      ],
      "source": [
        "from sympy.integrals.transforms import laplace_transform\n",
        "from sympy import symbols\n",
        "from sympy import *\n",
        "t = symbols('t', positive = True)\n",
        "s = symbols('s', real = True)\n",
        "\n",
        "f = Heaviside(t-2)\n",
        "F = laplace_transform(f, t, s)\n",
        "print(F)"
      ]
    },
    {
      "cell_type": "markdown",
      "metadata": {
        "id": "VuqgelCbs0rT"
      },
      "source": [
        "Diperoleh $\\mathcal{L}(u_2(t)) = F(s) = \\dfrac{e^{-2s}}{s}$."
      ]
    },
    {
      "cell_type": "markdown",
      "metadata": {
        "id": "HxGjronMtXBb"
      },
      "source": [
        "Transformasi Laplace merupakan transformasi yang invertible, dalam kata lain, kita punya $\\mathcal{L}^{-1}(F(s))=f(t)$. Dengan cara yang serupa seperti diatas, kita dapat memperoleh inver dari transformasi Laplace melalui perintah `inverse_laplace_transform` dari `sympy`."
      ]
    },
    {
      "cell_type": "code",
      "execution_count": null,
      "metadata": {
        "colab": {
          "base_uri": "https://localhost:8080/"
        },
        "id": "AHmuNXdCtq4x",
        "outputId": "2f0e9b5d-026a-47e7-f8e2-ed84e79e1f1b"
      },
      "outputs": [
        {
          "name": "stdout",
          "output_type": "stream",
          "text": [
            "Heaviside(t - 2)\n",
            "Heaviside(t - 2)\n"
          ]
        }
      ],
      "source": [
        "from sympy.integrals.transforms import inverse_laplace_transform\n",
        "\n",
        "t = symbols('t', positive = True)\n",
        "s = symbols('s', real = True)\n",
        "F1 = exp(-2*s)/s\n",
        "print(inverse_laplace_transform(F1, s, t))\n",
        "# Anda juga dapat mengevaluasi inversnya secara langsung dari hasil F diatas, sebagai berikut:\n",
        "print(inverse_laplace_transform(F[0], s, t))"
      ]
    },
    {
      "cell_type": "markdown",
      "metadata": {
        "id": "hwoc10cQZkWk"
      },
      "source": [
        "Terdapat beberapa fungsi yang tidak dapat ditransformasi Laplace dengan menggunakan Python, walaupun secara analitik fungsi tersebut memiliki transformasi Laplace. \n",
        "\n",
        "Contoh : Pandang $h(t)=\\sin(t)u(t-2\\pi)$. Berikut adalah keluaran yang dihasilkan dari `laplace_transform` pada $h(t)$."
      ]
    },
    {
      "cell_type": "code",
      "execution_count": null,
      "metadata": {
        "colab": {
          "base_uri": "https://localhost:8080/",
          "height": 38
        },
        "id": "F0nsM-UvZkIA",
        "outputId": "44c75c9d-ece2-4c36-d21b-edd1ca4a9896"
      },
      "outputs": [
        {
          "data": {
            "text/latex": [
              "$\\displaystyle \\mathcal{L}_{t}\\left[\\sin{\\left(t \\right)} \\theta\\left(t - 2 \\pi\\right)\\right]\\left(s\\right)$"
            ],
            "text/plain": [
              "LaplaceTransform(sin(t)*Heaviside(t - 2*pi), t, s)"
            ]
          },
          "execution_count": 4,
          "metadata": {},
          "output_type": "execute_result"
        }
      ],
      "source": [
        "from sympy.integrals.transforms import laplace_transform\n",
        "from sympy import symbols\n",
        "from sympy import *\n",
        "t = symbols('t', positive = True)\n",
        "s = symbols('s', real = True)\n",
        "\n",
        "h = sin(t)*Heaviside(t - 2*pi)\n",
        "H = laplace_transform(h, t, s)\n",
        "H"
      ]
    },
    {
      "cell_type": "markdown",
      "metadata": {
        "id": "MtQCLOGye5zR"
      },
      "source": [
        "Untuk mengatasinya, gunakan teorema berikut:\n",
        "Misal $h(t)=f(t-a)u(t-a)$, dengan $f(t)$ fungsi yang dapat ditransformasi Laplace dan $a$ suatu konstanta, maka berlaku\n",
        "\\begin{equation*}\n",
        "    \\mathcal{L}(h(t))= e^{-as}\\mathcal{L}(f(t))=e^{-as}F(s)\n",
        "\\end{equation*}\n",
        "\n",
        " Perhatikan bahwa $h(t)=\\sin(t)u(t-2\\pi)=\\sin(t-2\\pi)u(t-2\\pi)$.\n",
        "Jadi, tuliskan saja\n",
        "\n",
        ">   `exp(-2*pi*s)*laplace_transform(f, t, s, noconds=True)`\n",
        "\n",
        "dengan `f=sin(t)`."
      ]
    },
    {
      "cell_type": "code",
      "execution_count": null,
      "metadata": {
        "colab": {
          "base_uri": "https://localhost:8080/",
          "height": 55
        },
        "id": "xOqwW9JnfUhW",
        "outputId": "5f1e45cb-a68d-4136-eed1-21e0bdbd0119"
      },
      "outputs": [
        {
          "data": {
            "text/latex": [
              "$\\displaystyle \\frac{e^{- 2 \\pi s}}{s^{2} + 1}$"
            ],
            "text/plain": [
              "exp(-2*pi*s)/(s**2 + 1)"
            ]
          },
          "execution_count": 5,
          "metadata": {},
          "output_type": "execute_result"
        }
      ],
      "source": [
        "f = sin(t)\n",
        "H = exp(-2*pi*s)*laplace_transform(f, t, s, noconds=True)\n",
        "H"
      ]
    },
    {
      "cell_type": "markdown",
      "metadata": {
        "id": "_6vrzAFBprDB"
      },
      "source": [
        "## **4.2 Solusi Persamaan Diferensial Biasa**"
      ]
    },
    {
      "cell_type": "markdown",
      "metadata": {
        "id": "zgpOkRzzvzMY"
      },
      "source": [
        "Tidak sedikit yang bertanya - tanya mengapa transformasi Laplace dipelajari di mata kuliah PPD. \n",
        "\n",
        "Jawabannya, karena transformasi Laplace dapat digunakan untuk menentukan solusi dari suatu persamaan diferensial biasa yang solusinya sangat sulit untuk ditentukan dengan metode langsung.\n",
        "\n",
        "Kita dapat menggunakan transformasi Laplace untuk menyederhanakan suatu persamaan diferensial menjadi persamaan aljabar. Berikut langkah penyelesaian suatu PDB melalui transformasi Laplace : \n",
        "\n",
        "\n",
        "1.   Terapkan transformasi Laplace di kedua ruas persamaan diferensial. Akibatnya, persamaan diferensial tersebut akan menjadi persamaan aljabar.\n",
        "2.   Menyelesaikan persamaan aljabar yang diperoleh dari Langkah (1). Solusi persamaan aljabar yang diperoleh merupakan **transformasi Laplace dari solusi persamaan diferensial** tersebut.\n",
        "3.   Menerapkan invers transformasi Laplace dari solusi (2) untuk memperoleh solusi persamaan diferensialnya.\n",
        "\n",
        "*Contoh :*\n",
        "Pandang masalah nilai awal\n",
        "\\begin{equation*}\n",
        "ax'' + bx'+cx = f(t),\\;x(0)=x_0, x'(0)=v_0\n",
        "\\end{equation*}\n",
        "Hasil transformasi Laplace PDB diatas adalah:\n",
        "\\begin{align*}\n",
        "\\mathcal{L}(ax'' + bx'+cx) &= \\mathcal{L}(f(t)) \\\\\n",
        "a(s^2 X(s)-sx_0-v_0) + b(sX(s)-x_0) + cX(s)&=\\mathcal{L}(f(t))\n",
        "\\end{align*}\n",
        "\n",
        "\n"
      ]
    },
    {
      "cell_type": "markdown",
      "metadata": {
        "id": "Hg8VqgH5Gkpw"
      },
      "source": [
        "Mari kita selesaikan MNA berikut:\n",
        "\\begin{equation*}\n",
        "x'' + 10x'+21x = \\delta(t-2),\\;x(0)=4, x'(0)=7\n",
        "\\end{equation*}"
      ]
    },
    {
      "cell_type": "code",
      "execution_count": null,
      "metadata": {
        "colab": {
          "base_uri": "https://localhost:8080/",
          "height": 54
        },
        "id": "XCkfSaUHGngM",
        "outputId": "83124807-2215-4f52-efa1-6838babf745b"
      },
      "outputs": [
        {
          "data": {
            "text/latex": [
              "$\\displaystyle \\frac{e^{6} e^{- 3 t} \\theta\\left(t - 2\\right)}{4} + \\frac{35 e^{- 3 t}}{4} - \\frac{e^{14} e^{- 7 t} \\theta\\left(t - 2\\right)}{4} - \\frac{19 e^{- 7 t}}{4}$"
            ],
            "text/plain": [
              "exp(6)*exp(-3*t)*Heaviside(t - 2)/4 + 35*exp(-3*t)/4 - exp(14)*exp(-7*t)*Heaviside(t - 2)/4 - 19*exp(-7*t)/4"
            ]
          },
          "execution_count": 3,
          "metadata": {},
          "output_type": "execute_result"
        }
      ],
      "source": [
        "from sympy.integrals.transforms import laplace_transform\n",
        "from sympy.integrals.transforms import inverse_laplace_transform\n",
        "from sympy import symbols\n",
        "from sympy import *\n",
        "\n",
        "x, f, X = symbols('x f X', cls = Function)\n",
        "t = symbols('t', positive = True)\n",
        "s = symbols('s', real = True)\n",
        "\n",
        "f = DiracDelta(t - 2)\n",
        "x0 = 4\n",
        "v0 = 7\n",
        "\n",
        "# Definisikan transformasi Laplace dari pers. diferensial\n",
        "L_DE = Eq((s**2*X(s)-s*x0-v0) + 10*(s*X(s)-x0) + 21*X(s), \n",
        "          laplace_transform(f, t, s, noconds = True))\n",
        "sol_Xs = solve(L_DE, X(s))\n",
        "sol_DE = inverse_laplace_transform(sol_Xs[0], s, t)\n",
        "sol_DE = expand(sol_DE)\n",
        "sol_DE"
      ]
    }
  ],
  "metadata": {
    "colab": {
      "provenance": []
    },
    "kernelspec": {
      "display_name": "Python 3",
      "name": "python3"
    },
    "language_info": {
      "name": "python"
    }
  },
  "nbformat": 4,
  "nbformat_minor": 0
}
